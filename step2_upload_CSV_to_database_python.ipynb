{
 "cells": [
  {
   "cell_type": "markdown",
   "id": "9fd18e67-d180-4c2b-ae69-977291ea5519",
   "metadata": {},
   "source": [
    "# Data API to AWS RDS: retrieve, clean, upload\n",
    "## Step 2:\n",
    "- Read CSV file\n",
    "- Set Database connection parameters\n",
    "- Establish a connection to RDS instance using SQL\n",
    "- Write the contents of the DataFrame to the RDS instance"
   ]
  },
  {
   "cell_type": "code",
   "execution_count": null,
   "id": "bd3d53de-01e4-458d-9940-c09d5e837882",
   "metadata": {},
   "outputs": [],
   "source": [
    "import pandas as pd\n",
    "from sqlalchemy import create_engine"
   ]
  },
  {
   "cell_type": "markdown",
   "id": "9588501c-856a-4234-823a-291c92d89a06",
   "metadata": {},
   "source": [
    "#### Read CSV file"
   ]
  },
  {
   "cell_type": "code",
   "execution_count": null,
   "id": "64607520-6375-45c3-9478-2fad7d4d45ec",
   "metadata": {},
   "outputs": [],
   "source": [
    "csv_file = 'ny_taxi_dataset.csv'\n",
    "df = pd.read_csv(csv_file)"
   ]
  },
  {
   "cell_type": "markdown",
   "id": "94569ab6-81a5-4362-acd2-0e5ea9f78dd5",
   "metadata": {},
   "source": [
    "#### Set Database connection parameters"
   ]
  },
  {
   "cell_type": "code",
   "execution_count": null,
   "id": "6a34fd74-2f34-434f-bf5f-9ca31dd387fc",
   "metadata": {},
   "outputs": [],
   "source": [
    "db_port = 5432\n",
    "db_name = 'dbpg_database'\n",
    "db_username = 'Your username'\n",
    "db_password = 'Your password'"
   ]
  },
  {
   "cell_type": "markdown",
   "id": "e0e92f86-605c-4fe6-b49e-8b6c8bb8347c",
   "metadata": {},
   "source": [
    "#### Establish a connection to RDS instance using SQLAlchemy"
   ]
  },
  {
   "cell_type": "code",
   "execution_count": null,
   "id": "72e87257-ac96-4083-a3f9-2bf7f0a454b4",
   "metadata": {},
   "outputs": [],
   "source": [
    "engine = create_engine(f'postgresql+psycopg2://{db_username}:{db_password}@{db_endpoint}:{db_port}/{db_name}')"
   ]
  },
  {
   "cell_type": "markdown",
   "id": "8fb622a7-fdca-43f1-8541-b2413ee23ecd",
   "metadata": {},
   "source": [
    "#### Write the contents of the DataFrame to the RDS instance"
   ]
  },
  {
   "cell_type": "code",
   "execution_count": null,
   "id": "392067aa-ae99-432e-ad64-6565ffb2ea0a",
   "metadata": {},
   "outputs": [],
   "source": [
    "table_name = 'ny_taxi'\n",
    "df.to_sql(table_name, engine, if_exists='replace', index=False)\n",
    "\n",
    "print('CSV uploaded to Database')"
   ]
  }
 ],
 "metadata": {
  "kernelspec": {
   "display_name": "Python 3 (ipykernel)",
   "language": "python",
   "name": "python3"
  },
  "language_info": {
   "codemirror_mode": {
    "name": "ipython",
    "version": 3
   },
   "file_extension": ".py",
   "mimetype": "text/x-python",
   "name": "python",
   "nbconvert_exporter": "python",
   "pygments_lexer": "ipython3",
   "version": "3.11.3"
  }
 },
 "nbformat": 4,
 "nbformat_minor": 5
}
